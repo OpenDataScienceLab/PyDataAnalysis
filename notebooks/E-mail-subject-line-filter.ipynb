{
 "cells": [
  {
   "cell_type": "markdown",
   "metadata": {},
   "source": [
    "# E-mail subject line filter"
   ]
  },
  {
   "cell_type": "markdown",
   "metadata": {},
   "source": [
    "## Getting the data"
   ]
  },
  {
   "cell_type": "code",
   "execution_count": 2,
   "metadata": {
    "scrolled": true
   },
   "outputs": [
    {
     "name": "stderr",
     "output_type": "stream",
     "text": [
      "El fichero “spam-assassin-datasets.html?file=tl_files%2FProject_Datasets%2FSpamAssassin%20data%2F20050311_spam_2.tar.bz2” ya está ahí, no se recupera.\n",
      "\n",
      "El fichero “spam-assassin-datasets.html?file=tl_files%2FProject_Datasets%2FSpamAssassin%20data%2F20030228_easy_ham_2.tar.bz2” ya está ahí, no se recupera.\n",
      "\n"
     ]
    }
   ],
   "source": [
    "%%bash\n",
    "cd ../tmp/\n",
    "\n",
    "export SPAM_ROOT=\"http://www.csmining.org/index.php\"\n",
    "export SPAM_PAGE=\"spam-assassin-datasets.html\"\n",
    "export SPAM_PAGE=\"$SPAM_PAGE?file=tl_files/Project_Datasets/SpamAssassin%20data\"\n",
    "export SPAM_SPAM_URL=\"$SPAM_PAGE/20050311_spam_2.tar.bz2\"\n",
    "export SPAM_HAM_URL=\"$SPAM_PAGE/20030228_easy_ham_2.tar.bz2\"\n",
    "\n",
    "wget -nc $SPAM_ROOT/$SPAM_SPAM_URL\n",
    "wget -nc $SPAM_ROOT/$SPAM_HAM_URL\n",
    "\n",
    "export SPAM_SPAM_NAME=\"${SPAM_SPAM_URL//\\//%2F}\"\n",
    "export SPAM_HAM_NAME=\"${SPAM_HAM_URL//\\//%2F}\"\n",
    "\n",
    "tar xf $SPAM_SPAM_NAME\n",
    "tar xf $SPAM_HAM_NAME"
   ]
  },
  {
   "cell_type": "markdown",
   "metadata": {},
   "source": [
    "## Reading data"
   ]
  },
  {
   "cell_type": "code",
   "execution_count": 29,
   "metadata": {},
   "outputs": [],
   "source": [
    "import os\n",
    "import csv"
   ]
  },
  {
   "cell_type": "code",
   "execution_count": 2,
   "metadata": {},
   "outputs": [],
   "source": [
    "def list_words(text):\n",
    "    words = []\n",
    "    words_tmp = text.lower().split()\n",
    "    for w in words_tmp:\n",
    "        if w not in words and len(w) > 3:\n",
    "            words.append(w)\n",
    "    return words"
   ]
  },
  {
   "cell_type": "code",
   "execution_count": 21,
   "metadata": {
    "scrolled": true
   },
   "outputs": [
    {
     "name": "stdout",
     "output_type": "stream",
     "text": [
      "Reading spam ...\n",
      "Reading ham ...\n"
     ]
    }
   ],
   "source": [
    "dirs = [('spam', '../tmp/spam_2'), ('ham', '../tmp/spam_2')]\n",
    "\n",
    "for category, path in dirs:\n",
    "    print('Reading %s ...' % category)\n",
    "    \n",
    "    files = os.listdir(path)\n",
    "    \n",
    "    with open(\"../tmp/subjects_%s.out\" % category, \"w\") as out:\n",
    "        for fname in files:\n",
    "            file_path = os.path.join(path, fname)\n",
    "\n",
    "            data = None\n",
    "\n",
    "            for encoding in ['ascii', 'utf-8', 'latin_1']:\n",
    "                try:\n",
    "                    with open(file_path, encoding=encoding) as f:\n",
    "                        data = f.readlines()\n",
    "                        break\n",
    "                except:\n",
    "                    pass\n",
    "\n",
    "            if data is None:\n",
    "                print('[EE] %s load failed.' % fname)\n",
    "                continue\n",
    "\n",
    "            for line in data:\n",
    "                if line.startswith(\"Subject:\"):\n",
    "                    line.replace(\",\", \"\")\n",
    "                    out.write(\"{0}, {1} \\n\".format(line[8:-1], category))\n",
    "                    break"
   ]
  },
  {
   "cell_type": "code",
   "execution_count": 16,
   "metadata": {},
   "outputs": [],
   "source": [
    "# For a more advanced term-document matrix, we can use the Python\n",
    "# textmining package from:\n",
    "# https://pypi.python.org/pypi/textmining/1\n",
    "\n",
    "def list_words(text):\n",
    "    words = []\n",
    "    words_tmp = text.lower().split()\n",
    "    for w in words_tmp:\n",
    "        if w not in words and len(w) > 3:\n",
    "            words.append(w)\n",
    "    return words"
   ]
  },
  {
   "cell_type": "code",
   "execution_count": 17,
   "metadata": {},
   "outputs": [],
   "source": [
    "def training(texts):\n",
    "    c_words ={}\n",
    "    c_categories ={}\n",
    "    c_texts = 0\n",
    "    c_total_words =0\n",
    "    #add the classes to the categories\n",
    "    for t in texts:\n",
    "        c_texts = c_texts + 1\n",
    "        if t[1] not in c_categories:\n",
    "            c_categories[t[1]] = 1\n",
    "        else:\n",
    "            c_categories[t[1]]= c_categories[t[1]] + 1\n",
    "    #add the words with list_words() function\n",
    "    for t in texts:\n",
    "        words = list_words(t[0])\n",
    "        \n",
    "    for p in words:\n",
    "        if p not in c_words:\n",
    "            c_total_words = c_total_words +1\n",
    "            c_words[p] = {}\n",
    "            for c in c_categories:\n",
    "                    c_words[p][c] = 0\n",
    "        c_words[p][t[1]] = c_words[p][t[1]] + 1\n",
    "    return (c_words, c_categories, c_texts, c_total_words)\n"
   ]
  },
  {
   "cell_type": "code",
   "execution_count": 18,
   "metadata": {},
   "outputs": [],
   "source": [
    "def classifier(subject_line, c_words, c_categories, c_texts, c_tot_words):\n",
    "    category =\"\"\n",
    "    category_prob = 0\n",
    "    for c in c_categories:\n",
    "        #category probability\n",
    "        prob_c = float(c_categories[c])/float(c_texts)\n",
    "        words = list_words(subject_line)\n",
    "        prob_total_c = prob_c\n",
    "        for p in words:\n",
    "            #word probability\n",
    "            if p in c_words:\n",
    "                prob_p= float(c_words[p][c])/float(c_tot_words)\n",
    "                #probability P(category|word)\n",
    "                prob_cond = prob_p/prob_c\n",
    "                #probability P(word|category)\n",
    "                prob =(prob_cond * prob_p)/ prob_c\n",
    "                prob_total_c = prob_total_c * prob\n",
    "            if category_prob < prob_total_c:\n",
    "                category = c\n",
    "                category_prob = prob_total_c\n",
    "    return (category, category_prob)\n"
   ]
  },
  {
   "cell_type": "code",
   "execution_count": 27,
   "metadata": {},
   "outputs": [],
   "source": [
    "# dirs = [('spam', '../tmp/spam_2'), ('ham', '../tmp/spam_2')]\n",
    "# save training data\n",
    "with open('../tmp/training.csv', 'w') as f:\n",
    "    for category, path in dirs:\n",
    "        category_file_path = \"../tmp/subjects_%s.out\" % category\n",
    "        with open(category_file_path, 'r') as f_cat:\n",
    "            f.write(','.join(f_cat.readlines()[:100]))"
   ]
  },
  {
   "cell_type": "code",
   "execution_count": 30,
   "metadata": {},
   "outputs": [
    {
     "ename": "ValueError",
     "evalue": "dictionary update sequence element #1 has length 3; 2 is required",
     "output_type": "error",
     "traceback": [
      "\u001b[0;31m---------------------------------------------------------------------------\u001b[0m",
      "\u001b[0;31mValueError\u001b[0m                                Traceback (most recent call last)",
      "\u001b[0;32m<ipython-input-30-d0747621dc03>\u001b[0m in \u001b[0;36m<module>\u001b[0;34m()\u001b[0m\n\u001b[1;32m      1\u001b[0m \u001b[0;32mwith\u001b[0m \u001b[0mopen\u001b[0m\u001b[0;34m(\u001b[0m\u001b[0;34m'../tmp/training.csv'\u001b[0m\u001b[0;34m)\u001b[0m \u001b[0;32mas\u001b[0m \u001b[0mf\u001b[0m\u001b[0;34m:\u001b[0m\u001b[0;34m\u001b[0m\u001b[0m\n\u001b[0;32m----> 2\u001b[0;31m     \u001b[0msubjects\u001b[0m \u001b[0;34m=\u001b[0m \u001b[0mdict\u001b[0m\u001b[0;34m(\u001b[0m\u001b[0mcsv\u001b[0m\u001b[0;34m.\u001b[0m\u001b[0mreader\u001b[0m\u001b[0;34m(\u001b[0m\u001b[0mf\u001b[0m\u001b[0;34m,\u001b[0m \u001b[0mdelimiter\u001b[0m\u001b[0;34m=\u001b[0m\u001b[0;34m','\u001b[0m\u001b[0;34m)\u001b[0m\u001b[0;34m)\u001b[0m\u001b[0;34m\u001b[0m\u001b[0m\n\u001b[0m\u001b[1;32m      3\u001b[0m     \u001b[0mwords\u001b[0m\u001b[0;34m,\u001b[0m\u001b[0mcategories\u001b[0m\u001b[0;34m,\u001b[0m\u001b[0mtexts\u001b[0m\u001b[0;34m,\u001b[0m\u001b[0mtotal_words\u001b[0m \u001b[0;34m=\u001b[0m \u001b[0mtraining\u001b[0m\u001b[0;34m(\u001b[0m\u001b[0msubjects\u001b[0m\u001b[0;34m)\u001b[0m\u001b[0;34m\u001b[0m\u001b[0m\n",
      "\u001b[0;31mValueError\u001b[0m: dictionary update sequence element #1 has length 3; 2 is required"
     ]
    }
   ],
   "source": [
    "with open('../tmp/training.csv') as f:\n",
    "    subjects = dict(csv.reader(f, delimiter=','))\n",
    "    words,categories,texts,total_words = training(subjects)"
   ]
  },
  {
   "cell_type": "code",
   "execution_count": 12,
   "metadata": {},
   "outputs": [
    {
     "ename": "NameError",
     "evalue": "name 'words' is not defined",
     "output_type": "error",
     "traceback": [
      "\u001b[0;31m---------------------------------------------------------------------------\u001b[0m",
      "\u001b[0;31mNameError\u001b[0m                                 Traceback (most recent call last)",
      "\u001b[0;32m<ipython-input-12-19c06332362e>\u001b[0m in \u001b[0;36m<module>\u001b[0;34m()\u001b[0m\n\u001b[1;32m      1\u001b[0m clase = classifier(\n\u001b[0;32m----> 2\u001b[0;31m     \u001b[0;34m\"Low Cost Easy to Use Conferencing\"\u001b[0m\u001b[0;34m,\u001b[0m \u001b[0mwords\u001b[0m\u001b[0;34m,\u001b[0m\u001b[0mcategories\u001b[0m\u001b[0;34m,\u001b[0m\u001b[0mtexts\u001b[0m\u001b[0;34m,\u001b[0m\u001b[0mtotal_words\u001b[0m\u001b[0;34m\u001b[0m\u001b[0m\n\u001b[0m\u001b[1;32m      3\u001b[0m )\n\u001b[1;32m      4\u001b[0m \u001b[0mprint\u001b[0m\u001b[0;34m(\u001b[0m\u001b[0;34m\"Result: {0} \"\u001b[0m\u001b[0;34m.\u001b[0m\u001b[0mformat\u001b[0m\u001b[0;34m(\u001b[0m\u001b[0mclase\u001b[0m\u001b[0;34m)\u001b[0m\u001b[0;34m)\u001b[0m\u001b[0;34m\u001b[0m\u001b[0m\n",
      "\u001b[0;31mNameError\u001b[0m: name 'words' is not defined"
     ]
    }
   ],
   "source": [
    "clase = classifier(\n",
    "    \"Low Cost Easy to Use Conferencing\", words,categories,texts,total_words\n",
    ")\n",
    "print(\"Result: {0} \".format(clase))\n"
   ]
  },
  {
   "cell_type": "code",
   "execution_count": 14,
   "metadata": {},
   "outputs": [
    {
     "ename": "FileNotFoundError",
     "evalue": "[Errno 2] No such file or directory: 'test.csv'",
     "output_type": "error",
     "traceback": [
      "\u001b[0;31m---------------------------------------------------------------------------\u001b[0m",
      "\u001b[0;31mFileNotFoundError\u001b[0m                         Traceback (most recent call last)",
      "\u001b[0;32m<ipython-input-14-2664d69af3fd>\u001b[0m in \u001b[0;36m<module>\u001b[0;34m()\u001b[0m\n\u001b[0;32m----> 1\u001b[0;31m \u001b[0;32mwith\u001b[0m \u001b[0mopen\u001b[0m\u001b[0;34m(\u001b[0m\u001b[0;34m\"test.csv\"\u001b[0m\u001b[0;34m)\u001b[0m \u001b[0;32mas\u001b[0m \u001b[0mf\u001b[0m\u001b[0;34m:\u001b[0m\u001b[0;34m\u001b[0m\u001b[0m\n\u001b[0m\u001b[1;32m      2\u001b[0m     \u001b[0mcorrect\u001b[0m \u001b[0;34m=\u001b[0m \u001b[0;36m0\u001b[0m\u001b[0;34m\u001b[0m\u001b[0m\n\u001b[1;32m      3\u001b[0m     \u001b[0mtests\u001b[0m \u001b[0;34m=\u001b[0m \u001b[0mcsv\u001b[0m\u001b[0;34m.\u001b[0m\u001b[0mreader\u001b[0m\u001b[0;34m(\u001b[0m\u001b[0mf\u001b[0m\u001b[0;34m)\u001b[0m\u001b[0;34m\u001b[0m\u001b[0m\n\u001b[1;32m      4\u001b[0m     \u001b[0;32mfor\u001b[0m \u001b[0msubject\u001b[0m \u001b[0;32min\u001b[0m \u001b[0mtest\u001b[0m\u001b[0;34m:\u001b[0m\u001b[0;34m\u001b[0m\u001b[0m\n\u001b[1;32m      5\u001b[0m         \u001b[0mclase\u001b[0m \u001b[0;34m=\u001b[0m \u001b[0mclassifier\u001b[0m\u001b[0;34m(\u001b[0m\u001b[0msubject\u001b[0m\u001b[0;34m[\u001b[0m\u001b[0;36m0\u001b[0m\u001b[0;34m]\u001b[0m\u001b[0;34m,\u001b[0m\u001b[0mw\u001b[0m\u001b[0;34m,\u001b[0m\u001b[0mc\u001b[0m\u001b[0;34m,\u001b[0m\u001b[0mt\u001b[0m\u001b[0;34m,\u001b[0m\u001b[0mtw\u001b[0m\u001b[0;34m)\u001b[0m\u001b[0;34m\u001b[0m\u001b[0m\n",
      "\u001b[0;31mFileNotFoundError\u001b[0m: [Errno 2] No such file or directory: 'test.csv'"
     ]
    }
   ],
   "source": [
    "with open(\"test.csv\") as f:\n",
    "    correct = 0\n",
    "    tests = csv.reader(f)\n",
    "    for subject in test:\n",
    "        clase = classifier(subject[0],w,c,t,tw)\n",
    "        if clase[1] == subject[1]:\n",
    "            correct += 1\n",
    "    print(\"Efficiency : {0} of 100\".format(correct))"
   ]
  }
 ],
 "metadata": {
  "kernelspec": {
   "display_name": "Python 3",
   "language": "python",
   "name": "python3"
  },
  "language_info": {
   "codemirror_mode": {
    "name": "ipython",
    "version": 3
   },
   "file_extension": ".py",
   "mimetype": "text/x-python",
   "name": "python",
   "nbconvert_exporter": "python",
   "pygments_lexer": "ipython3",
   "version": "3.6.3"
  },
  "latex_envs": {
   "LaTeX_envs_menu_present": true,
   "autocomplete": true,
   "bibliofile": "biblio.bib",
   "cite_by": "apalike",
   "current_citInitial": 1,
   "eqLabelWithNumbers": true,
   "eqNumInitial": 1,
   "hotkeys": {
    "equation": "Ctrl-E",
    "itemize": "Ctrl-I"
   },
   "labels_anchors": false,
   "latex_user_defs": false,
   "report_style_numbering": false,
   "user_envs_cfg": false
  },
  "toc": {
   "nav_menu": {},
   "number_sections": true,
   "sideBar": true,
   "skip_h1_title": true,
   "toc_cell": false,
   "toc_position": {
    "height": "502px",
    "left": "0px",
    "right": "1266px",
    "top": "135px",
    "width": "100px"
   },
   "toc_section_display": "none",
   "toc_window_display": true
  }
 },
 "nbformat": 4,
 "nbformat_minor": 2
}
