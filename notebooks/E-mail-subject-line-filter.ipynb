{
 "cells": [
  {
   "cell_type": "markdown",
   "metadata": {},
   "source": [
    "# E-mail subject line filter"
   ]
  },
  {
   "cell_type": "markdown",
   "metadata": {},
   "source": [
    "## Getting the data"
   ]
  },
  {
   "cell_type": "code",
   "execution_count": 2,
   "metadata": {
    "scrolled": false
   },
   "outputs": [
    {
     "name": "stderr",
     "output_type": "stream",
     "text": [
      "El fichero “spam-assassin-datasets.html?file=tl_files%2FProject_Datasets%2FSpamAssassin%20data%2F20050311_spam_2.tar.bz2” ya está ahí, no se recupera.\n",
      "\n",
      "El fichero “spam-assassin-datasets.html?file=tl_files%2FProject_Datasets%2FSpamAssassin%20data%2F20030228_easy_ham_2.tar.bz2” ya está ahí, no se recupera.\n",
      "\n"
     ]
    }
   ],
   "source": [
    "%%bash\n",
    "cd ../tmp/\n",
    "\n",
    "export SPAM_ROOT=\"http://www.csmining.org/index.php\"\n",
    "export SPAM_PAGE=\"spam-assassin-datasets.html\"\n",
    "export SPAM_PAGE=\"$SPAM_PAGE?file=tl_files/Project_Datasets/SpamAssassin%20data\"\n",
    "export SPAM_SPAM_URL=\"$SPAM_PAGE/20050311_spam_2.tar.bz2\"\n",
    "export SPAM_HAM_URL=\"$SPAM_PAGE/20030228_easy_ham_2.tar.bz2\"\n",
    "\n",
    "wget -nc $SPAM_ROOT/$SPAM_SPAM_URL\n",
    "wget -nc $SPAM_ROOT/$SPAM_HAM_URL\n",
    "\n",
    "export SPAM_SPAM_NAME=\"${SPAM_SPAM_URL//\\//%2F}\"\n",
    "export SPAM_HAM_NAME=\"${SPAM_HAM_URL//\\//%2F}\"\n",
    "\n",
    "tar xf $SPAM_SPAM_NAME\n",
    "tar xf $SPAM_HAM_NAME"
   ]
  },
  {
   "cell_type": "markdown",
   "metadata": {},
   "source": [
    "## Reading data"
   ]
  },
  {
   "cell_type": "code",
   "execution_count": null,
   "metadata": {
    "collapsed": true
   },
   "outputs": [],
   "source": [
    "import os"
   ]
  },
  {
   "cell_type": "code",
   "execution_count": 41,
   "metadata": {},
   "outputs": [],
   "source": [
    "def list_words(text):\n",
    "    words = []\n",
    "    words_tmp = text.lower().split()\n",
    "    for w in words_tmp:\n",
    "        if w not in words and len(w) > 3:\n",
    "            words.append(w)\n",
    "    return words"
   ]
  },
  {
   "cell_type": "code",
   "execution_count": 40,
   "metadata": {
    "scrolled": true
   },
   "outputs": [],
   "source": [
    "files = os.listdir('../tmp/spam_2')\n",
    "\n",
    "with open(\"../tmp/SubjectsSpam.out\",\"w\") as out:\n",
    "    category = \"spam\"\n",
    "    for fname in files:\n",
    "        file_path = \"../tmp/spam_2/\" + fname\n",
    "\n",
    "        data = None\n",
    "        \n",
    "        for encoding in ['ascii', 'utf-8', 'latin_1']:\n",
    "            try:\n",
    "                with open(file_path, encoding=encoding) as f:\n",
    "                    data = f.readlines()\n",
    "                    break\n",
    "            except:\n",
    "                pass\n",
    "        \n",
    "        if data is None:\n",
    "            print('[EE] %s load failed.' % fname)\n",
    "            continue\n",
    "            \n",
    "        for line in data:\n",
    "            if line.startswith(\"Subject:\"):\n",
    "                line.replace(\",\", \"\")\n",
    "                out.write(\"{0}, {1} \\n\".format(line[8:-1], category))\n",
    "                break"
   ]
  }
 ],
 "metadata": {
  "kernelspec": {
   "display_name": "Python 3",
   "language": "python",
   "name": "python3"
  },
  "language_info": {
   "codemirror_mode": {
    "name": "ipython",
    "version": 3
   },
   "file_extension": ".py",
   "mimetype": "text/x-python",
   "name": "python",
   "nbconvert_exporter": "python",
   "pygments_lexer": "ipython3",
   "version": "3.6.2"
  },
  "latex_envs": {
   "LaTeX_envs_menu_present": true,
   "autocomplete": true,
   "bibliofile": "biblio.bib",
   "cite_by": "apalike",
   "current_citInitial": 1,
   "eqLabelWithNumbers": true,
   "eqNumInitial": 1,
   "hotkeys": {
    "equation": "Ctrl-E",
    "itemize": "Ctrl-I"
   },
   "labels_anchors": false,
   "latex_user_defs": false,
   "report_style_numbering": false,
   "user_envs_cfg": false
  },
  "toc": {
   "nav_menu": {},
   "number_sections": true,
   "sideBar": true,
   "skip_h1_title": true,
   "toc_cell": false,
   "toc_position": {},
   "toc_section_display": "block",
   "toc_window_display": true
  }
 },
 "nbformat": 4,
 "nbformat_minor": 2
}
