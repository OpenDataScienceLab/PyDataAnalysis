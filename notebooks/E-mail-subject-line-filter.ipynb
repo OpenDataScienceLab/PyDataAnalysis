{
 "cells": [
  {
   "cell_type": "markdown",
   "metadata": {},
   "source": [
    "# E-mail subject line filter"
   ]
  },
  {
   "cell_type": "markdown",
   "metadata": {},
   "source": [
    "## Getting the data"
   ]
  },
  {
   "cell_type": "code",
   "execution_count": 28,
   "metadata": {
    "scrolled": false
   },
   "outputs": [
    {
     "name": "stderr",
     "output_type": "stream",
     "text": [
      "--2017-10-23 22:19:34--  http://www.csmining.org/index.php/spam-assassin-datasets.html?file=tl_files/Project_Datasets/SpamAssassin%20data/20050311_spam_2.tar.bz2\n",
      "Resolviendo www.csmining.org (www.csmining.org)... 202.50.209.39\n",
      "Conectando con www.csmining.org (www.csmining.org)[202.50.209.39]:80... conectado.\n",
      "Petición HTTP enviada, esperando respuesta... 200 OK\n",
      "Longitud: 2059029 (2,0M) [application/octet-stream]\n",
      "Guardando como: “spam-assassin-datasets.html?file=tl_files%2FProject_Datasets%2FSpamAssassin%20data%2F20050311_spam_2.tar.bz2”\n",
      "\n",
      "     0K .......... .......... .......... .......... ..........  2% 88,1K 22s\n",
      "    50K .......... .......... .......... .......... ..........  4%  177K 16s\n",
      "   100K .......... .......... .......... .......... ..........  7% 10,0M 11s\n",
      "   150K .......... .......... .......... .......... ..........  9%  179K 10s\n",
      "   200K .......... .......... .......... .......... .......... 12% 6,25M 8s\n",
      "   250K .......... .......... .......... .......... .......... 14%  180K 8s\n",
      "   300K .......... .......... .......... .......... .......... 17% 7,01M 7s\n",
      "   350K .......... .......... .......... .......... .......... 19%  181K 7s\n",
      "   400K .......... .......... .......... .......... .......... 22% 6,47M 6s\n",
      "   450K .......... .......... .......... .......... .......... 24%  182K 6s\n",
      "   500K .......... .......... .......... .......... .......... 27% 7,39M 5s\n",
      "   550K .......... .......... .......... .......... .......... 29%  182K 5s\n",
      "   600K .......... .......... .......... .......... .......... 32% 6,44M 5s\n",
      "   650K .......... .......... .......... .......... .......... 34% 6,95M 4s\n",
      "   700K .......... .......... .......... .......... .......... 37%  182K 4s\n",
      "   750K .......... .......... .......... .......... .......... 39% 7,88M 4s\n",
      "   800K .......... .......... .......... .......... .......... 42%  183K 4s\n",
      "   850K .......... .......... .......... .......... .......... 44% 5,69M 4s\n",
      "   900K .......... .......... .......... .......... .......... 47% 9,46M 3s\n",
      "   950K .......... .......... .......... .......... .......... 49%  183K 3s\n",
      "  1000K .......... .......... .......... .......... .......... 52% 6,29M 3s\n",
      "  1050K .......... .......... .......... .......... .......... 54%  185K 3s\n",
      "  1100K .......... .......... .......... .......... .......... 57% 6,03M 3s\n",
      "  1150K .......... .......... .......... .......... .......... 59% 8,08M 2s\n",
      "  1200K .......... .......... .......... .......... .......... 62%  185K 2s\n",
      "  1250K .......... .......... .......... .......... .......... 64% 5,14M 2s\n",
      "  1300K .......... .......... .......... .......... .......... 67% 8,16M 2s\n",
      "  1350K .......... .......... .......... .......... .......... 69%  187K 2s\n",
      "  1400K .......... .......... .......... .......... .......... 72% 5,42M 2s\n",
      "  1450K .......... .......... .......... .......... .......... 74% 6,53M 1s\n",
      "  1500K .......... .......... .......... .......... .......... 77% 90,8K 1s\n",
      "  1550K .......... .......... .......... .......... .......... 79%  109M 1s\n",
      "  1600K .......... .......... .......... .......... .......... 82% 3,00M 1s\n",
      "  1650K .......... .......... .......... .......... .......... 84% 90,5K 1s\n",
      "  1700K .......... .......... .......... .......... .......... 87% 97,4M 1s\n",
      "  1750K .......... .......... .......... .......... .......... 89% 95,0M 1s\n",
      "  1800K .......... .......... .......... .......... .......... 92%  179K 0s\n",
      "  1850K .......... .......... .......... .......... .......... 94% 98,1M 0s\n",
      "  1900K .......... .......... .......... .......... .......... 96%  889K 0s\n",
      "  1950K .......... .......... .......... .......... .......... 99%  118M 0s\n",
      "  2000K ..........                                            100%  109M=5,4s\n",
      "\n",
      "2017-10-23 22:19:40 (370 KB/s) - “spam-assassin-datasets.html?file=tl_files%2FProject_Datasets%2FSpamAssassin%20data%2F20050311_spam_2.tar.bz2” guardado [2059029/2059029]\n",
      "\n",
      "--2017-10-23 22:19:40--  http://www.csmining.org/index.php/spam-assassin-datasets.html?file=tl_files/Project_Datasets/SpamAssassin%20data/20030228_easy_ham_2.tar.bz2\n",
      "Resolviendo www.csmining.org (www.csmining.org)... 202.50.209.39\n",
      "Conectando con www.csmining.org (www.csmining.org)[202.50.209.39]:80... conectado.\n",
      "Petición HTTP enviada, esperando respuesta... 200 OK\n",
      "Longitud: 1077892 (1,0M) [application/octet-stream]\n",
      "Guardando como: “spam-assassin-datasets.html?file=tl_files%2FProject_Datasets%2FSpamAssassin%20data%2F20030228_easy_ham_2.tar.bz2”\n",
      "\n",
      "     0K .......... .......... .......... .......... ..........  4% 89,6K 11s\n",
      "    50K .......... .......... .......... .......... ..........  9%  180K 8s\n",
      "   100K .......... .......... .......... .......... .......... 14% 9,87M 5s\n",
      "   150K .......... .......... .......... .......... .......... 19%  182K 5s\n",
      "   200K .......... .......... .......... .......... .......... 23% 6,71M 4s\n",
      "   250K .......... .......... .......... .......... .......... 28%  181K 4s\n",
      "   300K .......... .......... .......... .......... .......... 33% 12,8M 3s\n",
      "   350K .......... .......... .......... .......... .......... 38%  183K 3s\n",
      "   400K .......... .......... .......... .......... .......... 42% 8,61M 2s\n",
      "   450K .......... .......... .......... .......... .......... 47%  184K 2s\n",
      "   500K .......... .......... .......... .......... .......... 52% 7,21M 2s\n",
      "   550K .......... .......... .......... .......... .......... 57%  186K 2s\n",
      "   600K .......... .......... .......... .......... .......... 61% 6,31M 1s\n",
      "   650K .......... .......... .......... .......... .......... 66% 6,79M 1s\n",
      "   700K .......... .......... .......... .......... .......... 71%  185K 1s\n",
      "   750K .......... .......... .......... .......... .......... 76% 9,57M 1s\n",
      "   800K .......... .......... .......... .......... .......... 80%  184K 1s\n",
      "   850K .......... .......... .......... .......... .......... 85% 8,96M 0s\n",
      "   900K .......... .......... .......... .......... .......... 90%  976K 0s\n",
      "   950K .......... .......... .......... .......... .......... 95%  222K 0s\n",
      "  1000K .......... .......... .......... .......... .......... 99% 9,79M 0s\n",
      "  1050K ..                                                    100% 15,6M=3,1s\n",
      "\n",
      "2017-10-23 22:19:44 (342 KB/s) - “spam-assassin-datasets.html?file=tl_files%2FProject_Datasets%2FSpamAssassin%20data%2F20030228_easy_ham_2.tar.bz2” guardado [1077892/1077892]\n",
      "\n"
     ]
    }
   ],
   "source": [
    "%%bash\n",
    "export SPAM_ROOT=\"http://www.csmining.org/index.php\"\n",
    "export SPAM_PAGE=\"spam-assassin-datasets.html\"\n",
    "export SPAM_PAGE=\"$SPAM_PAGE?file=tl_files/Project_Datasets/SpamAssassin%20data\"\n",
    "export SPAM_SPAM_URL=\"$SPAM_PAGE/20050311_spam_2.tar.bz2\"\n",
    "export SPAM_HAM_URL=\"$SPAM_PAGE/20030228_easy_ham_2.tar.bz2\"\n",
    "\n",
    "wget -nc $SPAM_ROOT/$SPAM_SPAM_URL\n",
    "wget -nc $SPAM_ROOT/$SPAM_HAM_URL\n",
    "\n",
    "export SPAM_SPAM_NAME=\"${SPAM_SPAM_URL//\\//%2F}\"\n",
    "export SPAM_HAM_NAME=\"${SPAM_HAM_URL//\\//%2F}\"\n",
    "\n",
    "mv $SPAM_SPAM_NAME ../tmp/spam_2.tar.bz2\n",
    "mv $SPAM_HAM_NAME ../tmp/easy_ham_2.tar.bz2\n",
    "\n",
    "cd ../tmp/\n",
    "\n",
    "tar xf spam_2.tar.bz2\n",
    "tar xf easy_ham_2.tar.bz2"
   ]
  },
  {
   "cell_type": "code",
   "execution_count": null,
   "metadata": {
    "collapsed": true
   },
   "outputs": [],
   "source": []
  }
 ],
 "metadata": {
  "kernelspec": {
   "display_name": "Python 3",
   "language": "python",
   "name": "python3"
  },
  "language_info": {
   "codemirror_mode": {
    "name": "ipython",
    "version": 3
   },
   "file_extension": ".py",
   "mimetype": "text/x-python",
   "name": "python",
   "nbconvert_exporter": "python",
   "pygments_lexer": "ipython3",
   "version": "3.6.2"
  },
  "latex_envs": {
   "LaTeX_envs_menu_present": true,
   "autocomplete": true,
   "bibliofile": "biblio.bib",
   "cite_by": "apalike",
   "current_citInitial": 1,
   "eqLabelWithNumbers": true,
   "eqNumInitial": 1,
   "hotkeys": {
    "equation": "Ctrl-E",
    "itemize": "Ctrl-I"
   },
   "labels_anchors": false,
   "latex_user_defs": false,
   "report_style_numbering": false,
   "user_envs_cfg": false
  },
  "toc": {
   "nav_menu": {},
   "number_sections": true,
   "sideBar": true,
   "skip_h1_title": true,
   "toc_cell": false,
   "toc_position": {},
   "toc_section_display": "block",
   "toc_window_display": true
  }
 },
 "nbformat": 4,
 "nbformat_minor": 2
}
