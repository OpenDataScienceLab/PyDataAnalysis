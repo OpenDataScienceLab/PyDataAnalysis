{
 "cells": [
  {
   "cell_type": "markdown",
   "metadata": {},
   "source": [
    "# E-mail subject line filter"
   ]
  },
  {
   "cell_type": "markdown",
   "metadata": {},
   "source": [
    "## Getting the data"
   ]
  },
  {
   "cell_type": "code",
   "execution_count": 1,
   "metadata": {},
   "outputs": [
    {
     "name": "stdout",
     "output_type": "stream",
     "text": [
      "--2017-10-22 18:01:08--  http://www.csmining.org/index.php/spam-assassin-datasets.html?file=tl_files/Project_Datasets/SpamAssassin%20data/20050311_spam_2.tar.bz2\n",
      "Resolviendo www.csmining.org (www.csmining.org)... 202.50.209.39\n",
      "Conectando con www.csmining.org (www.csmining.org)[202.50.209.39]:80... conectado.\n",
      "Petición HTTP enviada, esperando respuesta... 200 OK\n",
      "Longitud: 2059029 (2,0M) [application/octet-stream]\n",
      "Guardando como: “spam-assassin-datasets.html?file=tl_files%2FProject_Datasets%2FSpamAssassin%20data%2F20050311_spam_2.tar.bz2”\n",
      "\n",
      "spam-assassin-datas 100%[===================>]   1,96M   254KB/s    in 8,8s    \n",
      "\n",
      "2017-10-22 18:01:18 (228 KB/s) - “spam-assassin-datasets.html?file=tl_files%2FProject_Datasets%2FSpamAssassin%20data%2F20050311_spam_2.tar.bz2” guardado [2059029/2059029]\n",
      "\n",
      "--2017-10-22 18:01:18--  http://www.csmining.org/index.php/spam-assassin-datasets.html?file=tl_files/Project_Datasets/SpamAssassin%20data/20030228_easy_ham.tar.bz2\n",
      "Resolviendo www.csmining.org (www.csmining.org)... 202.50.209.39\n",
      "Conectando con www.csmining.org (www.csmining.org)[202.50.209.39]:80... conectado.\n",
      "Petición HTTP enviada, esperando respuesta... 200 OK\n",
      "Longitud: 1612216 (1,5M) [application/octet-stream]\n",
      "Guardando como: “spam-assassin-datasets.html?file=tl_files%2FProject_Datasets%2FSpamAssassin%20data%2F20030228_easy_ham.tar.bz2”\n",
      "\n",
      "spam-assassin-datas 100%[===================>]   1,54M   171KB/s    in 9,2s    \n",
      "\n",
      "2017-10-22 18:01:28 (171 KB/s) - “spam-assassin-datasets.html?file=tl_files%2FProject_Datasets%2FSpamAssassin%20data%2F20030228_easy_ham.tar.bz2” guardado [1612216/1612216]\n",
      "\n"
     ]
    }
   ],
   "source": [
    "!wget -nc http://www.csmining.org/index.php/spam-assassin-datasets.html?file=tl_files/Project_Datasets/SpamAssassin%20data/20050311_spam_2.tar.bz2 ../tmp/spam.tar.bz2\n",
    "!wget -nc http://www.csmining.org/index.php/spam-assassin-datasets.html?file=tl_files/Project_Datasets/SpamAssassin%20data/20030228_easy_ham.tar.bz2 ../tmp/spam.tar.bz2"
   ]
  },
  {
   "cell_type": "code",
   "execution_count": null,
   "metadata": {
    "collapsed": true
   },
   "outputs": [],
   "source": []
  }
 ],
 "metadata": {
  "kernelspec": {
   "display_name": "Python 3",
   "language": "python",
   "name": "python3"
  },
  "language_info": {
   "codemirror_mode": {
    "name": "ipython",
    "version": 3
   },
   "file_extension": ".py",
   "mimetype": "text/x-python",
   "name": "python",
   "nbconvert_exporter": "python",
   "pygments_lexer": "ipython3",
   "version": "3.6.2"
  },
  "latex_envs": {
   "LaTeX_envs_menu_present": true,
   "autocomplete": true,
   "bibliofile": "biblio.bib",
   "cite_by": "apalike",
   "current_citInitial": 1,
   "eqLabelWithNumbers": true,
   "eqNumInitial": 1,
   "hotkeys": {
    "equation": "Ctrl-E",
    "itemize": "Ctrl-I"
   },
   "labels_anchors": false,
   "latex_user_defs": false,
   "report_style_numbering": false,
   "user_envs_cfg": false
  },
  "toc": {
   "nav_menu": {},
   "number_sections": true,
   "sideBar": true,
   "skip_h1_title": true,
   "toc_cell": false,
   "toc_position": {},
   "toc_section_display": "block",
   "toc_window_display": true
  }
 },
 "nbformat": 4,
 "nbformat_minor": 2
}
