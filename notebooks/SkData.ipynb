{
 "cells": [
  {
   "cell_type": "markdown",
   "metadata": {
    "toc": "true"
   },
   "source": [
    " # Table of Contents\n",
    "<div class=\"toc\" style=\"margin-top: 1em;\"><ul class=\"toc-item\" id=\"toc-level0\"><li><span><a href=\"http://localhost:8888/notebooks/SkData.ipynb#SkData---Data-Specification\" data-toc-modified-id=\"SkData---Data-Specification-1\"><span class=\"toc-item-num\">1&nbsp;&nbsp;</span>SkData - Data Specification</a></span></li></ul></div>"
   ]
  },
  {
   "cell_type": "markdown",
   "metadata": {},
   "source": [
    "# SkData - Data Specification"
   ]
  },
  {
   "cell_type": "markdown",
   "metadata": {
    "collapsed": true
   },
   "source": [
    "SkData provide a data class to structure and organize the preprocessing data.\n",
    "\n",
    "The data is stored in **hdf5** format. The original data is kept and all steps \n",
    "of preprocessing is kept to and applied on demand."
   ]
  },
  {
   "cell_type": "markdown",
   "metadata": {},
   "source": [
    "To import data from *csv* source:\n",
    "\n",
    "```python\n",
    "from skdata import SkData\n",
    "\n",
    "sd = SkData('filename.h5')\n",
    "sd.import_from(source='filename.csv')\n",
    "```"
   ]
  },
  {
   "cell_type": "code",
   "execution_count": 1,
   "metadata": {},
   "outputs": [],
   "source": [
    "try:\n",
    "    from skdata import SkData\n",
    "except:\n",
    "    # development version\n",
    "    import sys\n",
    "    import os\n",
    "\n",
    "    sys.path.insert(0, os.path.abspath('../'))\n",
    "    from skdata import SkData\n",
    "    "
   ]
  },
  {
   "cell_type": "code",
   "execution_count": 2,
   "metadata": {},
   "outputs": [],
   "source": [
    "sd = SkData('/tmp/titanic.h5')\n",
    "\n",
    "sd.import_from(\n",
    "    source='../data/train.csv', \n",
    "    index_col='PassengerId',\n",
    "    target_col='Survived',\n",
    "    dset_id='train'\n",
    ")"
   ]
  },
  {
   "cell_type": "code",
   "execution_count": 4,
   "metadata": {},
   "outputs": [
    {
     "data": {
      "text/html": [
       "<div>\n",
       "<style>\n",
       "    .dataframe thead tr:only-child th {\n",
       "        text-align: right;\n",
       "    }\n",
       "\n",
       "    .dataframe thead th {\n",
       "        text-align: left;\n",
       "    }\n",
       "\n",
       "    .dataframe tbody tr th {\n",
       "        vertical-align: top;\n",
       "    }\n",
       "</style>\n",
       "<table border=\"1\" class=\"dataframe\">\n",
       "  <thead>\n",
       "    <tr style=\"text-align: right;\">\n",
       "      <th></th>\n",
       "      <th>Survived</th>\n",
       "      <th>Pclass</th>\n",
       "      <th>Name</th>\n",
       "      <th>Sex</th>\n",
       "      <th>Age</th>\n",
       "      <th>SibSp</th>\n",
       "      <th>Parch</th>\n",
       "      <th>Ticket</th>\n",
       "      <th>Fare</th>\n",
       "      <th>Cabin</th>\n",
       "      <th>Embarked</th>\n",
       "    </tr>\n",
       "  </thead>\n",
       "  <tbody>\n",
       "    <tr>\n",
       "      <th>1</th>\n",
       "      <td>0</td>\n",
       "      <td>3</td>\n",
       "      <td>b'Braund, Mr. Owen Harris'</td>\n",
       "      <td>b'male'</td>\n",
       "      <td>22.0</td>\n",
       "      <td>1</td>\n",
       "      <td>0</td>\n",
       "      <td>b'A/5 21171'</td>\n",
       "      <td>7.2500</td>\n",
       "      <td>b'nan'</td>\n",
       "      <td>b'S'</td>\n",
       "    </tr>\n",
       "    <tr>\n",
       "      <th>2</th>\n",
       "      <td>1</td>\n",
       "      <td>1</td>\n",
       "      <td>b'Cumings, Mrs. John Bradley (Florence Briggs ...</td>\n",
       "      <td>b'female'</td>\n",
       "      <td>38.0</td>\n",
       "      <td>1</td>\n",
       "      <td>0</td>\n",
       "      <td>b'PC 17599'</td>\n",
       "      <td>71.2833</td>\n",
       "      <td>b'C85'</td>\n",
       "      <td>b'C'</td>\n",
       "    </tr>\n",
       "    <tr>\n",
       "      <th>3</th>\n",
       "      <td>1</td>\n",
       "      <td>3</td>\n",
       "      <td>b'Heikkinen, Miss. Laina'</td>\n",
       "      <td>b'female'</td>\n",
       "      <td>26.0</td>\n",
       "      <td>0</td>\n",
       "      <td>0</td>\n",
       "      <td>b'STON/O2. 3101282'</td>\n",
       "      <td>7.9250</td>\n",
       "      <td>b'nan'</td>\n",
       "      <td>b'S'</td>\n",
       "    </tr>\n",
       "    <tr>\n",
       "      <th>4</th>\n",
       "      <td>1</td>\n",
       "      <td>1</td>\n",
       "      <td>b'Futrelle, Mrs. Jacques Heath (Lily May Peel)'</td>\n",
       "      <td>b'female'</td>\n",
       "      <td>35.0</td>\n",
       "      <td>1</td>\n",
       "      <td>0</td>\n",
       "      <td>b'113803'</td>\n",
       "      <td>53.1000</td>\n",
       "      <td>b'C123'</td>\n",
       "      <td>b'S'</td>\n",
       "    </tr>\n",
       "    <tr>\n",
       "      <th>5</th>\n",
       "      <td>0</td>\n",
       "      <td>3</td>\n",
       "      <td>b'Allen, Mr. William Henry'</td>\n",
       "      <td>b'male'</td>\n",
       "      <td>35.0</td>\n",
       "      <td>0</td>\n",
       "      <td>0</td>\n",
       "      <td>b'373450'</td>\n",
       "      <td>8.0500</td>\n",
       "      <td>b'nan'</td>\n",
       "      <td>b'S'</td>\n",
       "    </tr>\n",
       "  </tbody>\n",
       "</table>\n",
       "</div>"
      ],
      "text/plain": [
       "   Survived  Pclass                                               Name  \\\n",
       "1         0       3                         b'Braund, Mr. Owen Harris'   \n",
       "2         1       1  b'Cumings, Mrs. John Bradley (Florence Briggs ...   \n",
       "3         1       3                          b'Heikkinen, Miss. Laina'   \n",
       "4         1       1    b'Futrelle, Mrs. Jacques Heath (Lily May Peel)'   \n",
       "5         0       3                        b'Allen, Mr. William Henry'   \n",
       "\n",
       "         Sex   Age  SibSp  Parch               Ticket     Fare    Cabin  \\\n",
       "1    b'male'  22.0      1      0         b'A/5 21171'   7.2500   b'nan'   \n",
       "2  b'female'  38.0      1      0          b'PC 17599'  71.2833   b'C85'   \n",
       "3  b'female'  26.0      0      0  b'STON/O2. 3101282'   7.9250   b'nan'   \n",
       "4  b'female'  35.0      1      0            b'113803'  53.1000  b'C123'   \n",
       "5    b'male'  35.0      0      0            b'373450'   8.0500   b'nan'   \n",
       "\n",
       "  Embarked  \n",
       "1     b'S'  \n",
       "2     b'C'  \n",
       "3     b'S'  \n",
       "4     b'S'  \n",
       "5     b'S'  "
      ]
     },
     "execution_count": 4,
     "metadata": {},
     "output_type": "execute_result"
    }
   ],
   "source": [
    "sd.get_data('train').head()"
   ]
  }
 ],
 "metadata": {
  "kernelspec": {
   "display_name": "Python 3",
   "language": "python",
   "name": "python3"
  },
  "language_info": {
   "codemirror_mode": {
    "name": "ipython",
    "version": 3
   },
   "file_extension": ".py",
   "mimetype": "text/x-python",
   "name": "python",
   "nbconvert_exporter": "python",
   "pygments_lexer": "ipython3",
   "version": "3.6.2"
  },
  "latex_envs": {
   "LaTeX_envs_menu_present": true,
   "autocomplete": true,
   "bibliofile": "biblio.bib",
   "cite_by": "apalike",
   "current_citInitial": 1,
   "eqLabelWithNumbers": true,
   "eqNumInitial": 1,
   "hotkeys": {
    "equation": "Ctrl-E",
    "itemize": "Ctrl-I"
   },
   "labels_anchors": false,
   "latex_user_defs": false,
   "report_style_numbering": false,
   "user_envs_cfg": false
  },
  "toc": {
   "nav_menu": {},
   "number_sections": true,
   "sideBar": true,
   "skip_h1_title": false,
   "toc_cell": true,
   "toc_position": {},
   "toc_section_display": "block",
   "toc_window_display": true
  }
 },
 "nbformat": 4,
 "nbformat_minor": 2
}
