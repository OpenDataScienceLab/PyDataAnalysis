{
 "cells": [
  {
   "cell_type": "markdown",
   "metadata": {
    "toc": "true"
   },
   "source": [
    " # Table of Contents\n",
    "<div class=\"toc\" style=\"margin-top: 1em;\"><ul class=\"toc-item\" id=\"toc-level0\"><li><span><a href=\"http://localhost:8888/notebooks/SkDataWidget.ipynb#Load-data-to-the-analysis-and-visualization\" data-toc-modified-id=\"Load-data-to-the-analysis-and-visualization-1\"><span class=\"toc-item-num\">1&nbsp;&nbsp;</span>Load data to the analysis and visualization</a></span><ul class=\"toc-item\"><li><span><a href=\"http://localhost:8888/notebooks/SkDataWidget.ipynb#Variables-description:\" data-toc-modified-id=\"Variables-description:-1.1\"><span class=\"toc-item-num\">1.1&nbsp;&nbsp;</span>Variables description:</a></span></li></ul></li><li><span><a href=\"http://localhost:8888/notebooks/SkDataWidget.ipynb#Widget\" data-toc-modified-id=\"Widget-2\"><span class=\"toc-item-num\">2&nbsp;&nbsp;</span>Widget</a></span></li><li><span><a href=\"http://localhost:8888/notebooks/SkDataWidget.ipynb#Conclusion\" data-toc-modified-id=\"Conclusion-3\"><span class=\"toc-item-num\">3&nbsp;&nbsp;</span>Conclusion</a></span></li></ul></div>"
   ]
  },
  {
   "cell_type": "markdown",
   "metadata": {},
   "source": [
    "# Scikit-Data Widget Introduction"
   ]
  },
  {
   "cell_type": "markdown",
   "metadata": {},
   "source": [
    "Scikit-Data library offers a set of functionalities to help\n",
    "the Data Analysts in their work.\n",
    "\n",
    "Initially is just a small set of simple functionalities like convert a dataframe\n",
    "in a crostab dataframe using some specifics fields.\n",
    "\n",
    "Other interesting functionality is offer a jupyter widget to offer interactive \n",
    "options to handle the data with graphical and tabular outputs.\n",
    "\n",
    "To import the Scikit-Data Jupyter Widget just use the following code:\n",
    "\n",
    "```python\n",
    "from skdata.widgets import SkDataWidget\n",
    "```"
   ]
  },
  {
   "cell_type": "code",
   "execution_count": 1,
   "metadata": {},
   "outputs": [
    {
     "name": "stderr",
     "output_type": "stream",
     "text": [
      "/home/xmn/miniconda3/envs/skdata/lib/python3.6/site-packages/odo/backends/pandas.py:102: FutureWarning: pandas.tslib is deprecated and will be removed in a future version.\n",
      "You can access NaTType as type(pandas.NaT)\n",
      "  @convert.register((pd.Timestamp, pd.Timedelta), (pd.tslib.NaTType, type(None)))\n"
     ]
    }
   ],
   "source": [
    "from IPython.display import Image\n",
    "from skdata.widgets import SkDataWidget\n",
    "from skdata import SkData"
   ]
  },
  {
   "cell_type": "markdown",
   "metadata": {},
   "source": [
    "## Load data to the analysis and visualization"
   ]
  },
  {
   "cell_type": "markdown",
   "metadata": {},
   "source": [
    "The data used in this example was extracted from Kaggle Titanic challenge."
   ]
  },
  {
   "cell_type": "markdown",
   "metadata": {},
   "source": [
    "### Variables description:\n",
    "\n",
    "* survival        Survival            (0 = No; 1 = Yes)\n",
    "* pclass          Passenger Class (1 = 1st; 2 = 2nd; 3 = 3rd)\n",
    "* name            Name\n",
    "* sex             Sex\n",
    "* age             Age\n",
    "* sibsp           Number of Siblings/Spouses Aboard\n",
    "* parch           Number of Parents/Children Aboard\n",
    "* ticket          Ticket Number\n",
    "* fare            Passenger Fare\n",
    "* cabin           Cabin\n",
    "* embarked        Port of Embarkation (C = Cherbourg; Q = Queenstown; S = Southampton)\n",
    "\n",
    "SPECIAL NOTES:\n",
    "Pclass is a proxy for socio-economic status (SES)\n",
    " 1st ~ Upper; 2nd ~ Middle; 3rd ~ Lower\n",
    "\n",
    "Age is in Years; Fractional if Age less than One (1)\n",
    " If the Age is Estimated, it is in the form xx.5\n",
    "\n",
    "With respect to the family relation variables (i.e. sibsp and parch)\n",
    "some relations were ignored.  The following are the definitions used\n",
    "for sibsp and parch.\n",
    "\n",
    "Sibling:  Brother, Sister, Stepbrother, or Stepsister of Passenger Aboard Titanic\n",
    "Spouse:   Husband or Wife of Passenger Aboard Titanic (Mistresses and Fiances Ignored)\n",
    "Parent:   Mother or Father of Passenger Aboard Titanic\n",
    "Child:    Son, Daughter, Stepson, or Stepdaughter of Passenger Aboard Titanic\n",
    "\n",
    "Other family relatives excluded from this study include cousins,\n",
    "nephews/nieces, aunts/uncles, and in-laws.  Some children travelled\n",
    "only with a nanny, therefore parch=0 for them.  As well, some\n",
    "travelled with very close friends or neighbors in a village, however,\n",
    "the definitions do not support such relations.\""
   ]
  },
  {
   "cell_type": "code",
   "execution_count": 2,
   "metadata": {},
   "outputs": [],
   "source": [
    "sd = SkData('/tmp/titanic.h5')\n",
    "sd.import_from(\n",
    "    source='../data/train.csv', index_col='PassengerId',\n",
    "    target_col='Survived'\n",
    ")"
   ]
  },
  {
   "cell_type": "markdown",
   "metadata": {},
   "source": [
    "## Widget"
   ]
  },
  {
   "cell_type": "markdown",
   "metadata": {},
   "source": [
    "To use SkDataWidget class, you need some SkData loaded:\n",
    "\n",
    "```python\n",
    "w = SkDataWidget(sd)\n",
    "```"
   ]
  },
  {
   "cell_type": "markdown",
   "metadata": {},
   "source": [
    "You can use the show_chart method to change some parameters of the chart that \n",
    "show information of a cross tab of the fields selected:\n",
    "    \n",
    "```python\n",
    "w.display(dset_id='dset_id')\n",
    "```\n",
    "\n",
    "This method will use the parameters informed and create and show a chart and \n",
    "a data table."
   ]
  },
  {
   "cell_type": "code",
   "execution_count": 3,
   "metadata": {},
   "outputs": [
    {
     "data": {
      "text/html": [
       "<div>\n",
       "<style>\n",
       "    .dataframe thead tr:only-child th {\n",
       "        text-align: right;\n",
       "    }\n",
       "\n",
       "    .dataframe thead th {\n",
       "        text-align: left;\n",
       "    }\n",
       "\n",
       "    .dataframe tbody tr th {\n",
       "        vertical-align: top;\n",
       "    }\n",
       "</style>\n",
       "<table border=\"1\" class=\"dataframe\">\n",
       "  <thead>\n",
       "    <tr style=\"text-align: right;\">\n",
       "      <th></th>\n",
       "      <th>Types</th>\n",
       "      <th>Set Values</th>\n",
       "      <th>Count Set</th>\n",
       "      <th># Observations</th>\n",
       "      <th># NaN</th>\n",
       "    </tr>\n",
       "  </thead>\n",
       "  <tbody>\n",
       "    <tr>\n",
       "      <th>Survived</th>\n",
       "      <td>int64</td>\n",
       "      <td>[0, 1]</td>\n",
       "      <td>2</td>\n",
       "      <td>891</td>\n",
       "      <td>0</td>\n",
       "    </tr>\n",
       "    <tr>\n",
       "      <th>Pclass</th>\n",
       "      <td>int64</td>\n",
       "      <td>[1, 2, 3]</td>\n",
       "      <td>3</td>\n",
       "      <td>891</td>\n",
       "      <td>0</td>\n",
       "    </tr>\n",
       "    <tr>\n",
       "      <th>Name</th>\n",
       "      <td>object</td>\n",
       "      <td>['Abbing, Mr. Anthony', 'Abbott, Mr. Rossmore ...</td>\n",
       "      <td>891</td>\n",
       "      <td>891</td>\n",
       "      <td>0</td>\n",
       "    </tr>\n",
       "    <tr>\n",
       "      <th>Sex</th>\n",
       "      <td>object</td>\n",
       "      <td>['female', 'male']</td>\n",
       "      <td>2</td>\n",
       "      <td>891</td>\n",
       "      <td>0</td>\n",
       "    </tr>\n",
       "    <tr>\n",
       "      <th>Age</th>\n",
       "      <td>float64</td>\n",
       "      <td>[0.42, 0.67, 0.75, 0.83, 0.92, 1.0, 2.0, 3.0, ...</td>\n",
       "      <td>88</td>\n",
       "      <td>714</td>\n",
       "      <td>177</td>\n",
       "    </tr>\n",
       "    <tr>\n",
       "      <th>SibSp</th>\n",
       "      <td>int64</td>\n",
       "      <td>[0, 1, 2, 3, 4, 5, 8]</td>\n",
       "      <td>7</td>\n",
       "      <td>891</td>\n",
       "      <td>0</td>\n",
       "    </tr>\n",
       "    <tr>\n",
       "      <th>Parch</th>\n",
       "      <td>int64</td>\n",
       "      <td>[0, 1, 2, 3, 4, 5, 6]</td>\n",
       "      <td>7</td>\n",
       "      <td>891</td>\n",
       "      <td>0</td>\n",
       "    </tr>\n",
       "    <tr>\n",
       "      <th>Ticket</th>\n",
       "      <td>object</td>\n",
       "      <td>['110152', '110413', '110465', '110564', '1108...</td>\n",
       "      <td>681</td>\n",
       "      <td>891</td>\n",
       "      <td>0</td>\n",
       "    </tr>\n",
       "    <tr>\n",
       "      <th>Fare</th>\n",
       "      <td>float64</td>\n",
       "      <td>[0.0, 4.0125, 5.0, 6.2375, 6.4375, 6.45, 6.495...</td>\n",
       "      <td>248</td>\n",
       "      <td>891</td>\n",
       "      <td>0</td>\n",
       "    </tr>\n",
       "    <tr>\n",
       "      <th>Cabin</th>\n",
       "      <td>object</td>\n",
       "      <td>['A10', 'A14', 'A16', 'A19', 'A20', 'A23', 'A2...</td>\n",
       "      <td>147</td>\n",
       "      <td>204</td>\n",
       "      <td>687</td>\n",
       "    </tr>\n",
       "    <tr>\n",
       "      <th>Embarked</th>\n",
       "      <td>object</td>\n",
       "      <td>['C', 'Q', 'S']</td>\n",
       "      <td>3</td>\n",
       "      <td>889</td>\n",
       "      <td>2</td>\n",
       "    </tr>\n",
       "  </tbody>\n",
       "</table>\n",
       "</div>"
      ],
      "text/plain": [
       "            Types                                         Set Values  \\\n",
       "Survived    int64                                             [0, 1]   \n",
       "Pclass      int64                                          [1, 2, 3]   \n",
       "Name       object  ['Abbing, Mr. Anthony', 'Abbott, Mr. Rossmore ...   \n",
       "Sex        object                                 ['female', 'male']   \n",
       "Age       float64  [0.42, 0.67, 0.75, 0.83, 0.92, 1.0, 2.0, 3.0, ...   \n",
       "SibSp       int64                              [0, 1, 2, 3, 4, 5, 8]   \n",
       "Parch       int64                              [0, 1, 2, 3, 4, 5, 6]   \n",
       "Ticket     object  ['110152', '110413', '110465', '110564', '1108...   \n",
       "Fare      float64  [0.0, 4.0125, 5.0, 6.2375, 6.4375, 6.45, 6.495...   \n",
       "Cabin      object  ['A10', 'A14', 'A16', 'A19', 'A20', 'A23', 'A2...   \n",
       "Embarked   object                                    ['C', 'Q', 'S']   \n",
       "\n",
       "          Count Set  # Observations  # NaN  \n",
       "Survived          2             891      0  \n",
       "Pclass            3             891      0  \n",
       "Name            891             891      0  \n",
       "Sex               2             891      0  \n",
       "Age              88             714    177  \n",
       "SibSp             7             891      0  \n",
       "Parch             7             891      0  \n",
       "Ticket          681             891      0  \n",
       "Fare            248             891      0  \n",
       "Cabin           147             204    687  \n",
       "Embarked          3             889      2  "
      ]
     },
     "execution_count": 3,
     "metadata": {},
     "output_type": "execute_result"
    }
   ],
   "source": [
    "sd['train'].summary()"
   ]
  },
  {
   "cell_type": "code",
   "execution_count": 4,
   "metadata": {
    "scrolled": false
   },
   "outputs": [
    {
     "data": {
      "application/vnd.jupyter.widget-view+json": {
       "model_id": "9c23c97516ba4c92b4e422fe68dfa913",
       "version_major": 2,
       "version_minor": 0
      },
      "text/plain": [
       "A Jupyter Widget"
      ]
     },
     "metadata": {},
     "output_type": "display_data"
    }
   ],
   "source": [
    "w = SkDataWidget(sd)\n",
    "w.display(dset_id='train')"
   ]
  },
  {
   "cell_type": "markdown",
   "metadata": {},
   "source": [
    "This should display the follow screen:"
   ]
  },
  {
   "cell_type": "code",
   "execution_count": 5,
   "metadata": {},
   "outputs": [
    {
     "data": {
      "image/png": "[encoded data removed]",
      "text/plain": [
       "<IPython.core.display.Image object>"
      ]
     },
     "execution_count": 5,
     "metadata": {},
     "output_type": "execute_result"
    }
   ],
   "source": [
    "Image(filename='../data/img/initial_screen.png')"
   ]
  },
  {
   "cell_type": "markdown",
   "metadata": {},
   "source": [
    "If you want to see the chart just click at Chart option and you will see\n",
    "something like that:"
   ]
  },
  {
   "cell_type": "code",
   "execution_count": 6,
   "metadata": {},
   "outputs": [
    {
     "data": {
      "image/png": "[encoded data removed]",
      "text/plain": [
       "<IPython.core.display.Image object>"
      ]
     },
     "execution_count": 6,
     "metadata": {},
     "output_type": "execute_result"
    }
   ],
   "source": [
    "Image(filename='../data/img/chart_screen.png')"
   ]
  },
  {
   "cell_type": "markdown",
   "metadata": {},
   "source": [
    "By default, the chart is displayed crossing each fields `Xs` with `Y` \n",
    "(chart type=individual). If you want to see a unique chart with all selected\n",
    "fields `Xs` crossed with `Y` field, select the chart type option `grouped`."
   ]
  },
  {
   "cell_type": "markdown",
   "metadata": {},
   "source": [
    "## Conclusion"
   ]
  },
  {
   "cell_type": "markdown",
   "metadata": {},
   "source": [
    "These are an initial functionalities to help handle and observe data phenomenons\n",
    "in a very quick way."
   ]
  }
 ],
 "metadata": {
  "kernelspec": {
   "display_name": "Python 3",
   "language": "python",
   "name": "python3"
  },
  "language_info": {
   "codemirror_mode": {
    "name": "ipython",
    "version": 3
   },
   "file_extension": ".py",
   "mimetype": "text/x-python",
   "name": "python",
   "nbconvert_exporter": "python",
   "pygments_lexer": "ipython3",
   "version": "3.6.2"
  },
  "latex_envs": {
   "LaTeX_envs_menu_present": true,
   "autocomplete": true,
   "bibliofile": "biblio.bib",
   "cite_by": "apalike",
   "current_citInitial": 1,
   "eqLabelWithNumbers": true,
   "eqNumInitial": 0,
   "hotkeys": {
    "equation": "Ctrl-E",
    "itemize": "Ctrl-I"
   },
   "labels_anchors": false,
   "latex_user_defs": false,
   "report_style_numbering": false,
   "user_envs_cfg": false
  },
  "nav_menu": {},
  "toc": {
   "nav_menu": {
    "height": "84px",
    "width": "252px"
   },
   "number_sections": true,
   "sideBar": true,
   "skip_h1_title": true,
   "toc_cell": true,
   "toc_position": {},
   "toc_section_display": "block",
   "toc_window_display": true
  }
 },
 "nbformat": 4,
 "nbformat_minor": 1
}
