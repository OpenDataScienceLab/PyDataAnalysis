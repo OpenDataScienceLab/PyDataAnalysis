{
 "cells": [
  {
   "cell_type": "code",
   "execution_count": 1,
   "metadata": {},
   "outputs": [],
   "source": [
    "from IPython.display import display\n",
    "from copy import copy\n",
    "\n",
    "import pandas as pd"
   ]
  },
  {
   "cell_type": "code",
   "execution_count": 2,
   "metadata": {},
   "outputs": [],
   "source": [
    "METHODS = [\n",
    "    'add', 'sub', 'mul', 'floordiv', 'div', 'truediv', 'mod', \n",
    "    'divmod', 'pow', 'lshift', 'rshift', 'and', 'or', 'xor'\n",
    "]\n",
    "\n",
    "def overload_method(instance, name):\n",
    "    \"\"\"\n",
    "    \n",
    "    \"\"\"\n",
    "    def __target__(self, *args, **kwargs):\n",
    "        \"\"\"\n",
    "        \n",
    "        \"\"\"\n",
    "        if not 'inplace' in kwargs or not kwargs['inplace']:\n",
    "            return SkDataFrame(\n",
    "                getattr(self.df, name)(*args, **kwargs), \n",
    "                list(self.steps) + ['%s(*%s)' % (name, args)]\n",
    "            )\n",
    "        else:\n",
    "            getattr(self.df, name)(*args, **kwargs), \n",
    "            self.steps.append('%s(*%s)' % (name, args))\n",
    "            return None\n",
    "            \n",
    "    setattr(instance, name, __target__)\n",
    "    \n",
    "    \n",
    "def overload_private_method(instance, name):\n",
    "    \"\"\"\n",
    "    \n",
    "    \"\"\"\n",
    "    def __target__(self, *args, **kwargs):\n",
    "        \"\"\"\n",
    "        \n",
    "        \"\"\"\n",
    "        return SkDataFrame(\n",
    "            getattr(self.df, name)(*args, **kwargs), \n",
    "            list(self.steps) + ['%s(*%s)' % (name, args)]\n",
    "        )\n",
    "    setattr(instance, name, __target__)\n",
    "\n",
    "    \n",
    "def overload_private_imethod(instance, name):\n",
    "    \"\"\"\n",
    "    \n",
    "    \"\"\"\n",
    "    def __target__(self, *args, **kwargs):\n",
    "        \"\"\"\n",
    "        \n",
    "        \"\"\"\n",
    "        getattr(self.df, name)(*args, **kwargs), \n",
    "        self.steps.append('%s(*%s)' % (name, args))\n",
    "        return self\n",
    "    setattr(instance, name, __target__)"
   ]
  },
  {
   "cell_type": "code",
   "execution_count": 3,
   "metadata": {},
   "outputs": [
    {
     "name": "stderr",
     "output_type": "stream",
     "text": [
      "/home/xmn/miniconda3/lib/python3.6/site-packages/ipykernel_launcher.py:15: DeprecationWarning: \n",
      ".ix is deprecated. Please use\n",
      ".loc for label based indexing or\n",
      ".iloc for positional indexing\n",
      "\n",
      "See the documentation here:\n",
      "http://pandas.pydata.org/pandas-docs/stable/indexing.html#ix-indexer-is-deprecated\n",
      "  from ipykernel import kernelapp as app\n"
     ]
    }
   ],
   "source": [
    "_df = pd.DataFrame()\n",
    "\n",
    "PANDAS_DATAFRAME_OBJECTS = [\n",
    "    attr for attr in dir(_df) \n",
    "    if not attr.startswith('_')\n",
    "]\n",
    "\n",
    "PANDAS_DATAFRAME_ATTRIBUTES = [\n",
    "    attr for attr in PANDAS_DATAFRAME_OBJECTS[30:31] \n",
    "    if not callable(getattr(_df, attr))\n",
    "]\n",
    "\n",
    "PANDAS_DATAFRAME_METHODS = [\n",
    "    attr for attr in PANDAS_DATAFRAME_OBJECTS \n",
    "    if callable(getattr(_df, attr))\n",
    "]"
   ]
  },
  {
   "cell_type": "code",
   "execution_count": 4,
   "metadata": {},
   "outputs": [],
   "source": [
    "class SkDataFrame:\n",
    "    df = None\n",
    "    steps = []\n",
    "    \n",
    "    def __new__(cls, *args, **kwds):\n",
    "        \"\"\"\n",
    "        \n",
    "        \"\"\"\n",
    "        for method in METHODS:\n",
    "            overload_private_method(cls, '__%s__' % method)\n",
    "            overload_private_method(cls, '__r%s__' % method)\n",
    "            overload_private_imethod(cls, '__i%s__' % method)\n",
    "            \n",
    "        for method in PANDAS_DATAFRAME_METHODS:\n",
    "            overload_method(cls, method)\n",
    "            \n",
    "        return super(SkDataFrame, cls).__new__(cls)\n",
    "    \n",
    "    def __init__(self, *args, **kwargs):\n",
    "        if args and isinstance(args[0], pd.DataFrame):\n",
    "            self.df = args[0]\n",
    "            if len(args) > 1:\n",
    "                self.steps = list(args[1])\n",
    "        else:\n",
    "            self.df = pd.DataFrame(*args, **kwargs)\n",
    "        \n",
    "        # magic methods\n",
    "        self.__repr__ = self.df.__repr__\n",
    "        self._repr_html_ = self.df._repr_html_\n",
    "        "
   ]
  },
  {
   "cell_type": "code",
   "execution_count": 5,
   "metadata": {},
   "outputs": [
    {
     "data": {
      "text/plain": [
       "(   a\n",
       " 0  1\n",
       " 1  5, 139766343605664)"
      ]
     },
     "execution_count": 5,
     "metadata": {},
     "output_type": "execute_result"
    }
   ],
   "source": [
    "skdf = SkDataFrame({'a': [1,5]})\n",
    "skdf.df, id(skdf)"
   ]
  },
  {
   "cell_type": "code",
   "execution_count": 6,
   "metadata": {},
   "outputs": [
    {
     "data": {
      "text/html": [
       "<div>\n",
       "<style>\n",
       "    .dataframe thead tr:only-child th {\n",
       "        text-align: right;\n",
       "    }\n",
       "\n",
       "    .dataframe thead th {\n",
       "        text-align: left;\n",
       "    }\n",
       "\n",
       "    .dataframe tbody tr th {\n",
       "        vertical-align: top;\n",
       "    }\n",
       "</style>\n",
       "<table border=\"1\" class=\"dataframe\">\n",
       "  <thead>\n",
       "    <tr style=\"text-align: right;\">\n",
       "      <th></th>\n",
       "      <th>0</th>\n",
       "    </tr>\n",
       "  </thead>\n",
       "  <tbody>\n",
       "    <tr>\n",
       "      <th>sum(*())</th>\n",
       "      <td>NaN</td>\n",
       "    </tr>\n",
       "  </tbody>\n",
       "</table>\n",
       "</div>"
      ],
      "text/plain": [
       "<__main__.SkDataFrame at 0x7f1e1025afd0>"
      ]
     },
     "execution_count": 6,
     "metadata": {},
     "output_type": "execute_result"
    }
   ],
   "source": [
    "skdf.sum()"
   ]
  },
  {
   "cell_type": "code",
   "execution_count": 7,
   "metadata": {},
   "outputs": [
    {
     "data": {
      "text/plain": [
       "[]"
      ]
     },
     "execution_count": 7,
     "metadata": {},
     "output_type": "execute_result"
    }
   ],
   "source": [
    "skdf.steps"
   ]
  },
  {
   "cell_type": "code",
   "execution_count": 8,
   "metadata": {},
   "outputs": [
    {
     "data": {
      "text/html": [
       "<div>\n",
       "<style>\n",
       "    .dataframe thead tr:only-child th {\n",
       "        text-align: right;\n",
       "    }\n",
       "\n",
       "    .dataframe thead th {\n",
       "        text-align: left;\n",
       "    }\n",
       "\n",
       "    .dataframe tbody tr th {\n",
       "        vertical-align: top;\n",
       "    }\n",
       "</style>\n",
       "<table border=\"1\" class=\"dataframe\">\n",
       "  <thead>\n",
       "    <tr style=\"text-align: right;\">\n",
       "      <th></th>\n",
       "      <th>a</th>\n",
       "    </tr>\n",
       "  </thead>\n",
       "  <tbody>\n",
       "    <tr>\n",
       "      <th>0</th>\n",
       "      <td>0.5</td>\n",
       "    </tr>\n",
       "    <tr>\n",
       "      <th>1</th>\n",
       "      <td>2.5</td>\n",
       "    </tr>\n",
       "  </tbody>\n",
       "</table>\n",
       "</div>"
      ],
      "text/plain": [
       "     a\n",
       "0  0.5\n",
       "1  2.5"
      ]
     },
     "execution_count": 8,
     "metadata": {},
     "output_type": "execute_result"
    }
   ],
   "source": [
    "(skdf / 2).df"
   ]
  },
  {
   "cell_type": "code",
   "execution_count": 9,
   "metadata": {},
   "outputs": [
    {
     "name": "stdout",
     "output_type": "stream",
     "text": [
      "['__iadd__(*(1,))']\n",
      "   a\n",
      "0  2\n",
      "1  6\n"
     ]
    }
   ],
   "source": [
    "skdf += 1\n",
    "print(skdf.steps)\n",
    "print(skdf.df)"
   ]
  },
  {
   "cell_type": "code",
   "execution_count": 10,
   "metadata": {},
   "outputs": [
    {
     "name": "stdout",
     "output_type": "stream",
     "text": [
      "   a\n",
      "0  3\n",
      "1  7\n",
      "['__iadd__(*(1,))', '__add__(*(1,))']\n"
     ]
    },
    {
     "data": {
      "text/plain": [
       "['__iadd__(*(1,))']"
      ]
     },
     "execution_count": 10,
     "metadata": {},
     "output_type": "execute_result"
    }
   ],
   "source": [
    "print((skdf + 1).df)\n",
    "print((skdf + 1).steps)\n",
    "skdf.steps"
   ]
  },
  {
   "cell_type": "code",
   "execution_count": 11,
   "metadata": {},
   "outputs": [
    {
     "data": {
      "text/html": [
       "<div>\n",
       "<style>\n",
       "    .dataframe thead tr:only-child th {\n",
       "        text-align: right;\n",
       "    }\n",
       "\n",
       "    .dataframe thead th {\n",
       "        text-align: left;\n",
       "    }\n",
       "\n",
       "    .dataframe tbody tr th {\n",
       "        vertical-align: top;\n",
       "    }\n",
       "</style>\n",
       "<table border=\"1\" class=\"dataframe\">\n",
       "  <thead>\n",
       "    <tr style=\"text-align: right;\">\n",
       "      <th></th>\n",
       "      <th>a</th>\n",
       "    </tr>\n",
       "  </thead>\n",
       "  <tbody>\n",
       "    <tr>\n",
       "      <th>0</th>\n",
       "      <td>4</td>\n",
       "    </tr>\n",
       "    <tr>\n",
       "      <th>1</th>\n",
       "      <td>8</td>\n",
       "    </tr>\n",
       "  </tbody>\n",
       "</table>\n",
       "</div>"
      ],
      "text/plain": [
       "   a\n",
       "0  4\n",
       "1  8"
      ]
     },
     "metadata": {},
     "output_type": "display_data"
    },
    {
     "data": {
      "text/plain": [
       "['__iadd__(*(1,))', '__radd__(*(1,))', '__add__(*(1,))']"
      ]
     },
     "execution_count": 11,
     "metadata": {},
     "output_type": "execute_result"
    }
   ],
   "source": [
    "skdf_test = 1 + skdf + 1\n",
    "display(skdf_test.df)\n",
    "skdf_test.steps"
   ]
  },
  {
   "cell_type": "code",
   "execution_count": 12,
   "metadata": {},
   "outputs": [
    {
     "data": {
      "text/plain": [
       "['__iadd__(*(1,))']"
      ]
     },
     "execution_count": 12,
     "metadata": {},
     "output_type": "execute_result"
    }
   ],
   "source": [
    "skdf.steps"
   ]
  },
  {
   "cell_type": "code",
   "execution_count": 13,
   "metadata": {},
   "outputs": [
    {
     "name": "stdout",
     "output_type": "stream",
     "text": [
      "['__iadd__(*(1,))', '__radd__(*(1,))', '__add__(*(1,))']\n",
      "   a\n",
      "0  4\n",
      "1  8\n"
     ]
    }
   ],
   "source": [
    "skdf = 1 + skdf + 1\n",
    "print(skdf.steps)\n",
    "print(skdf.df)"
   ]
  },
  {
   "cell_type": "code",
   "execution_count": 14,
   "metadata": {
    "scrolled": false
   },
   "outputs": [
    {
     "data": {
      "text/html": [
       "<div>\n",
       "<style>\n",
       "    .dataframe thead tr:only-child th {\n",
       "        text-align: right;\n",
       "    }\n",
       "\n",
       "    .dataframe thead th {\n",
       "        text-align: left;\n",
       "    }\n",
       "\n",
       "    .dataframe tbody tr th {\n",
       "        vertical-align: top;\n",
       "    }\n",
       "</style>\n",
       "<table border=\"1\" class=\"dataframe\">\n",
       "  <thead>\n",
       "    <tr style=\"text-align: right;\">\n",
       "      <th></th>\n",
       "      <th>a</th>\n",
       "    </tr>\n",
       "  </thead>\n",
       "  <tbody>\n",
       "    <tr>\n",
       "      <th>0</th>\n",
       "      <td>3</td>\n",
       "    </tr>\n",
       "    <tr>\n",
       "      <th>1</th>\n",
       "      <td>7</td>\n",
       "    </tr>\n",
       "  </tbody>\n",
       "</table>\n",
       "</div>"
      ],
      "text/plain": [
       "   a\n",
       "0  3\n",
       "1  7"
      ]
     },
     "execution_count": 14,
     "metadata": {},
     "output_type": "execute_result"
    }
   ],
   "source": [
    "skdf.df - 1"
   ]
  }
 ],
 "metadata": {
  "kernelspec": {
   "display_name": "Python 3",
   "language": "python",
   "name": "python3"
  },
  "language_info": {
   "codemirror_mode": {
    "name": "ipython",
    "version": 3
   },
   "file_extension": ".py",
   "mimetype": "text/x-python",
   "name": "python",
   "nbconvert_exporter": "python",
   "pygments_lexer": "ipython3",
   "version": "3.6.3"
  },
  "latex_envs": {
   "LaTeX_envs_menu_present": true,
   "autocomplete": true,
   "bibliofile": "biblio.bib",
   "cite_by": "apalike",
   "current_citInitial": 1,
   "eqLabelWithNumbers": true,
   "eqNumInitial": 1,
   "hotkeys": {
    "equation": "Ctrl-E",
    "itemize": "Ctrl-I"
   },
   "labels_anchors": false,
   "latex_user_defs": false,
   "report_style_numbering": false,
   "user_envs_cfg": false
  },
  "toc": {
   "nav_menu": {},
   "number_sections": true,
   "sideBar": true,
   "skip_h1_title": true,
   "toc_cell": false,
   "toc_position": {},
   "toc_section_display": "block",
   "toc_window_display": false
  }
 },
 "nbformat": 4,
 "nbformat_minor": 2
}
