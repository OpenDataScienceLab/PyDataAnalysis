{
 "cells": [
  {
   "cell_type": "code",
   "execution_count": 1,
   "metadata": {},
   "outputs": [],
   "source": [
    "from IPython.display import display\n",
    "from copy import copy\n",
    "\n",
    "import pandas as pd"
   ]
  },
  {
   "cell_type": "code",
   "execution_count": 2,
   "metadata": {},
   "outputs": [],
   "source": [
    "METHODS = [\n",
    "    'add', 'sub', 'mul', 'floordiv', 'div', 'truediv', 'mod', \n",
    "    'divmod', 'pow', 'lshift', 'rshift', 'and', 'or', 'xor'\n",
    "]\n",
    "\n",
    "\n",
    "def overload_public_attribute(instance, name):\n",
    "    \"\"\"\n",
    "    \n",
    "    \"\"\"\n",
    "    @property\n",
    "    def __target__(self, *args, **kwargs):\n",
    "        \"\"\"\n",
    "        \n",
    "        \"\"\"\n",
    "        return getattr(self.data, name)\n",
    "    \n",
    "    setattr(instance, name, __target__)\n",
    "\n",
    "def overload_public_method(instance, name):\n",
    "    \"\"\"\n",
    "    \n",
    "    \"\"\"\n",
    "    def __target__(self, *args, **kwargs):\n",
    "        \"\"\"\n",
    "        \n",
    "        \"\"\"\n",
    "        if not 'inplace' in kwargs or not kwargs['inplace']:\n",
    "            _data = getattr(self.data, name)(*args, **kwargs)\n",
    "            \n",
    "            if isinstance(_data, pd.DataFrame):\n",
    "                _SkDataObject = SkDataFrame\n",
    "            elif isinstance(_data, pd.Series):\n",
    "                _SkDataObject = SkDataSerie\n",
    "            else:\n",
    "                raise Exception('Data Type not supported yet.')\n",
    "            \n",
    "            return _SkDataObject(\n",
    "                getattr(self.data, name)(*args, **kwargs), \n",
    "                list(self.steps) + ['%s(*%s)' % (name, args)]\n",
    "            )\n",
    "        else:\n",
    "            getattr(self.data, name)(*args, **kwargs), \n",
    "            self.steps.append('%s(*%s)' % (name, args))\n",
    "            return None\n",
    "            \n",
    "    setattr(instance, name, __target__)\n",
    "    \n",
    "    \n",
    "def overload_private_method(instance, name, register_step=True):\n",
    "    \"\"\"\n",
    "    \n",
    "    \"\"\"\n",
    "    def __target__(self, *args, **kwargs):\n",
    "        \"\"\"\n",
    "        \n",
    "        \"\"\"\n",
    "        if not register_step:\n",
    "            return getattr(self.data, name)(*args, **kwargs)\n",
    "        \n",
    "        if args and isinstance(args[0], SkDataObject):\n",
    "            args = list(args)\n",
    "            args[0] = args[0].data\n",
    "            args = tuple(args)\n",
    "            \n",
    "        return SkDataFrame(\n",
    "            getattr(self.data, name)(*args, **kwargs), \n",
    "            list(self.steps) + ['%s(*%s)' % (name, args)]\n",
    "        )\n",
    "    setattr(instance, name, __target__)\n",
    "\n",
    "    \n",
    "def overload_private_imethod(instance, name):\n",
    "    \"\"\"\n",
    "    \n",
    "    \"\"\"\n",
    "    def __target__(self, *args, **kwargs):\n",
    "        \"\"\"\n",
    "        \n",
    "        \"\"\"\n",
    "        if args and isinstance(args[0], SkDataObject):\n",
    "            args = list(args)\n",
    "            args[0] = args[0].data\n",
    "            args = tuple(args)\n",
    "            \n",
    "        getattr(self.data, name)(*args, **kwargs), \n",
    "        self.steps.append('%s(*%s)' % (name, args))\n",
    "        return self\n",
    "    setattr(instance, name, __target__)"
   ]
  },
  {
   "cell_type": "code",
   "execution_count": 3,
   "metadata": {},
   "outputs": [
    {
     "name": "stderr",
     "output_type": "stream",
     "text": [
      "/home/xmn/miniconda3/envs/skdata/lib/python3.6/site-packages/ipykernel_launcher.py:11: DeprecationWarning: \n",
      ".ix is deprecated. Please use\n",
      ".loc for label based indexing or\n",
      ".iloc for positional indexing\n",
      "\n",
      "See the documentation here:\n",
      "http://pandas.pydata.org/pandas-docs/stable/indexing.html#ix-indexer-is-deprecated\n",
      "  # This is added back by InteractiveShellApp.init_path()\n",
      "/home/xmn/miniconda3/envs/skdata/lib/python3.6/site-packages/ipykernel_launcher.py:26: DeprecationWarning: \n",
      ".ix is deprecated. Please use\n",
      ".loc for label based indexing or\n",
      ".iloc for positional indexing\n",
      "\n",
      "See the documentation here:\n",
      "http://pandas.pydata.org/pandas-docs/stable/indexing.html#ix-indexer-is-deprecated\n"
     ]
    }
   ],
   "source": [
    "_df = pd.DataFrame()\n",
    "_se = pd.Series()\n",
    "\n",
    "PANDAS_DATAFRAME_OBJECTS = [\n",
    "    attr for attr in dir(_df) \n",
    "    if not attr.startswith('_')\n",
    "]\n",
    "\n",
    "PANDAS_DATAFRAME_ATTRIBUTES = [\n",
    "    attr for attr in PANDAS_DATAFRAME_OBJECTS\n",
    "    if not callable(getattr(_df, attr))\n",
    "]\n",
    "\n",
    "PANDAS_DATAFRAME_METHODS = [\n",
    "    attr for attr in PANDAS_DATAFRAME_OBJECTS \n",
    "    if callable(getattr(_df, attr))\n",
    "]\n",
    "\n",
    "PANDAS_SERIES_OBJECTS = [\n",
    "    attr for attr in dir(_se) \n",
    "    if not attr.startswith('_')\n",
    "]\n",
    "\n",
    "PANDAS_SERIES_ATTRIBUTES = [\n",
    "    attr for attr in PANDAS_SERIES_OBJECTS\n",
    "    if not callable(getattr(_se, attr))\n",
    "]\n",
    "\n",
    "PANDAS_SERIES_METHODS = [\n",
    "    attr for attr in PANDAS_SERIES_OBJECTS \n",
    "    if callable(getattr(_se, attr))\n",
    "]"
   ]
  },
  {
   "cell_type": "code",
   "execution_count": 4,
   "metadata": {},
   "outputs": [],
   "source": [
    "class SkDataObject:\n",
    "    pass\n",
    "\n",
    "class SkDataFrame(SkDataObject):\n",
    "    data = None\n",
    "    steps = []\n",
    "    \n",
    "    def __new__(cls, *args, **kwds):\n",
    "        \"\"\"\n",
    "        \n",
    "        \"\"\"\n",
    "        overload_public_attribute(cls, 'values')\n",
    "        overload_private_method(cls, '__repr__', register_step=False)\n",
    "        overload_private_method(cls, '_repr_html_', register_step=False)\n",
    "        \n",
    "        for method in METHODS:\n",
    "            overload_private_method(cls, '__%s__' % method)\n",
    "            overload_private_method(cls, '__r%s__' % method)\n",
    "            overload_private_imethod(cls, '__i%s__' % method)\n",
    "            \n",
    "        for method in PANDAS_DATAFRAME_METHODS:\n",
    "            overload_public_method(cls, method)\n",
    "            \n",
    "        return super(SkDataFrame, cls).__new__(cls)\n",
    "    \n",
    "    def __init__(self, *args, **kwargs):\n",
    "        if args and isinstance(args[0], pd.DataFrame):\n",
    "            self.data = args[0]\n",
    "            if len(args) > 1:\n",
    "                self.steps = list(args[1])\n",
    "        else:\n",
    "            self.data = pd.DataFrame(*args, **kwargs)"
   ]
  },
  {
   "cell_type": "code",
   "execution_count": 5,
   "metadata": {},
   "outputs": [],
   "source": [
    "class SkDataSerie(SkDataObject):\n",
    "    data = None\n",
    "    steps = []\n",
    "    \n",
    "    def __new__(cls, *args, **kwds):\n",
    "        \"\"\"\n",
    "        \n",
    "        \"\"\"\n",
    "        overload_public_attribute(cls, 'values')\n",
    "        overload_private_method(cls, '__repr__', register_step=False)\n",
    "        # overload_private_method(cls, '_repr_html_', register_step=False)\n",
    "        \n",
    "        for method in METHODS:\n",
    "            overload_private_method(cls, '__%s__' % method)\n",
    "            overload_private_method(cls, '__r%s__' % method)\n",
    "            overload_private_imethod(cls, '__i%s__' % method)\n",
    "            \n",
    "        for method in PANDAS_DATAFRAME_METHODS:\n",
    "            overload_public_method(cls, method)\n",
    "            \n",
    "        return super(SkDataSerie, cls).__new__(cls)\n",
    "    \n",
    "    def __init__(self, *args, **kwargs):\n",
    "        if args and isinstance(args[0], pd.Series):\n",
    "            self.data = args[0]\n",
    "            if len(args) > 1:\n",
    "                self.steps = list(args[1])\n",
    "        else:\n",
    "            self.data = pd.DataFrame(*args, **kwargs)"
   ]
  },
  {
   "cell_type": "code",
   "execution_count": 6,
   "metadata": {},
   "outputs": [
    {
     "data": {
      "text/plain": [
       "(   a\n",
       " 0  1\n",
       " 1  5, 140155953694480)"
      ]
     },
     "execution_count": 6,
     "metadata": {},
     "output_type": "execute_result"
    }
   ],
   "source": [
    "skdf = SkDataFrame({'a': [1,5]})\n",
    "skdf, id(skdf)"
   ]
  },
  {
   "cell_type": "code",
   "execution_count": 7,
   "metadata": {},
   "outputs": [
    {
     "data": {
      "text/plain": [
       "a    6\n",
       "dtype: int64"
      ]
     },
     "execution_count": 7,
     "metadata": {},
     "output_type": "execute_result"
    }
   ],
   "source": [
    "skdf.sum()"
   ]
  },
  {
   "cell_type": "code",
   "execution_count": 8,
   "metadata": {},
   "outputs": [
    {
     "data": {
      "text/plain": [
       "[]"
      ]
     },
     "execution_count": 8,
     "metadata": {},
     "output_type": "execute_result"
    }
   ],
   "source": [
    "skdf.steps"
   ]
  },
  {
   "cell_type": "code",
   "execution_count": 9,
   "metadata": {},
   "outputs": [
    {
     "data": {
      "text/html": [
       "<div>\n",
       "<style scoped>\n",
       "    .dataframe tbody tr th:only-of-type {\n",
       "        vertical-align: middle;\n",
       "    }\n",
       "\n",
       "    .dataframe tbody tr th {\n",
       "        vertical-align: top;\n",
       "    }\n",
       "\n",
       "    .dataframe thead th {\n",
       "        text-align: right;\n",
       "    }\n",
       "</style>\n",
       "<table border=\"1\" class=\"dataframe\">\n",
       "  <thead>\n",
       "    <tr style=\"text-align: right;\">\n",
       "      <th></th>\n",
       "      <th>a</th>\n",
       "    </tr>\n",
       "  </thead>\n",
       "  <tbody>\n",
       "    <tr>\n",
       "      <th>0</th>\n",
       "      <td>0.5</td>\n",
       "    </tr>\n",
       "    <tr>\n",
       "      <th>1</th>\n",
       "      <td>2.5</td>\n",
       "    </tr>\n",
       "  </tbody>\n",
       "</table>\n",
       "</div>"
      ],
      "text/plain": [
       "     a\n",
       "0  0.5\n",
       "1  2.5"
      ]
     },
     "execution_count": 9,
     "metadata": {},
     "output_type": "execute_result"
    }
   ],
   "source": [
    "(skdf / 2)"
   ]
  },
  {
   "cell_type": "code",
   "execution_count": 10,
   "metadata": {},
   "outputs": [
    {
     "name": "stdout",
     "output_type": "stream",
     "text": [
      "['__iadd__(*(1,))']\n",
      "   a\n",
      "0  2\n",
      "1  6\n"
     ]
    }
   ],
   "source": [
    "skdf += 1\n",
    "print(skdf.steps)\n",
    "print(skdf)"
   ]
  },
  {
   "cell_type": "code",
   "execution_count": 11,
   "metadata": {},
   "outputs": [
    {
     "name": "stdout",
     "output_type": "stream",
     "text": [
      "   a\n",
      "0  3\n",
      "1  7\n",
      "['__iadd__(*(1,))', '__add__(*(1,))']\n"
     ]
    },
    {
     "data": {
      "text/plain": [
       "['__iadd__(*(1,))']"
      ]
     },
     "execution_count": 11,
     "metadata": {},
     "output_type": "execute_result"
    }
   ],
   "source": [
    "print(skdf + 1)\n",
    "print((skdf + 1).steps)\n",
    "skdf.steps"
   ]
  },
  {
   "cell_type": "code",
   "execution_count": 12,
   "metadata": {},
   "outputs": [
    {
     "data": {
      "text/html": [
       "<div>\n",
       "<style scoped>\n",
       "    .dataframe tbody tr th:only-of-type {\n",
       "        vertical-align: middle;\n",
       "    }\n",
       "\n",
       "    .dataframe tbody tr th {\n",
       "        vertical-align: top;\n",
       "    }\n",
       "\n",
       "    .dataframe thead th {\n",
       "        text-align: right;\n",
       "    }\n",
       "</style>\n",
       "<table border=\"1\" class=\"dataframe\">\n",
       "  <thead>\n",
       "    <tr style=\"text-align: right;\">\n",
       "      <th></th>\n",
       "      <th>a</th>\n",
       "    </tr>\n",
       "  </thead>\n",
       "  <tbody>\n",
       "    <tr>\n",
       "      <th>0</th>\n",
       "      <td>4</td>\n",
       "    </tr>\n",
       "    <tr>\n",
       "      <th>1</th>\n",
       "      <td>8</td>\n",
       "    </tr>\n",
       "  </tbody>\n",
       "</table>\n",
       "</div>"
      ],
      "text/plain": [
       "   a\n",
       "0  4\n",
       "1  8"
      ]
     },
     "metadata": {},
     "output_type": "display_data"
    },
    {
     "data": {
      "text/plain": [
       "['__iadd__(*(1,))', '__radd__(*(1,))', '__add__(*(1,))']"
      ]
     },
     "execution_count": 12,
     "metadata": {},
     "output_type": "execute_result"
    }
   ],
   "source": [
    "skdf_test = 1 + skdf + 1\n",
    "display(skdf_test)\n",
    "skdf_test.steps"
   ]
  },
  {
   "cell_type": "code",
   "execution_count": 13,
   "metadata": {},
   "outputs": [
    {
     "data": {
      "text/plain": [
       "['__iadd__(*(1,))']"
      ]
     },
     "execution_count": 13,
     "metadata": {},
     "output_type": "execute_result"
    }
   ],
   "source": [
    "skdf.steps"
   ]
  },
  {
   "cell_type": "code",
   "execution_count": 14,
   "metadata": {},
   "outputs": [
    {
     "name": "stdout",
     "output_type": "stream",
     "text": [
      "['__iadd__(*(1,))', '__radd__(*(1,))', '__add__(*(1,))']\n",
      "   a\n",
      "0  4\n",
      "1  8\n"
     ]
    }
   ],
   "source": [
    "skdf = 1 + skdf + 1\n",
    "print(skdf.steps)\n",
    "print(skdf)"
   ]
  },
  {
   "cell_type": "code",
   "execution_count": 15,
   "metadata": {
    "scrolled": false
   },
   "outputs": [
    {
     "data": {
      "text/html": [
       "<div>\n",
       "<style scoped>\n",
       "    .dataframe tbody tr th:only-of-type {\n",
       "        vertical-align: middle;\n",
       "    }\n",
       "\n",
       "    .dataframe tbody tr th {\n",
       "        vertical-align: top;\n",
       "    }\n",
       "\n",
       "    .dataframe thead th {\n",
       "        text-align: right;\n",
       "    }\n",
       "</style>\n",
       "<table border=\"1\" class=\"dataframe\">\n",
       "  <thead>\n",
       "    <tr style=\"text-align: right;\">\n",
       "      <th></th>\n",
       "      <th>a</th>\n",
       "    </tr>\n",
       "  </thead>\n",
       "  <tbody>\n",
       "    <tr>\n",
       "      <th>0</th>\n",
       "      <td>3</td>\n",
       "    </tr>\n",
       "    <tr>\n",
       "      <th>1</th>\n",
       "      <td>7</td>\n",
       "    </tr>\n",
       "  </tbody>\n",
       "</table>\n",
       "</div>"
      ],
      "text/plain": [
       "   a\n",
       "0  3\n",
       "1  7"
      ]
     },
     "execution_count": 15,
     "metadata": {},
     "output_type": "execute_result"
    }
   ],
   "source": [
    "skdf - 1"
   ]
  },
  {
   "cell_type": "code",
   "execution_count": 16,
   "metadata": {},
   "outputs": [],
   "source": [
    "skdf += skdf"
   ]
  },
  {
   "cell_type": "code",
   "execution_count": 17,
   "metadata": {},
   "outputs": [
    {
     "name": "stdout",
     "output_type": "stream",
     "text": [
      "['__iadd__(*(1,))', '__radd__(*(1,))', '__add__(*(1,))', '__iadd__(*(    a\\n0   8\\n1  16,))']\n"
     ]
    },
    {
     "data": {
      "text/html": [
       "<div>\n",
       "<style scoped>\n",
       "    .dataframe tbody tr th:only-of-type {\n",
       "        vertical-align: middle;\n",
       "    }\n",
       "\n",
       "    .dataframe tbody tr th {\n",
       "        vertical-align: top;\n",
       "    }\n",
       "\n",
       "    .dataframe thead th {\n",
       "        text-align: right;\n",
       "    }\n",
       "</style>\n",
       "<table border=\"1\" class=\"dataframe\">\n",
       "  <thead>\n",
       "    <tr style=\"text-align: right;\">\n",
       "      <th></th>\n",
       "      <th>a</th>\n",
       "    </tr>\n",
       "  </thead>\n",
       "  <tbody>\n",
       "    <tr>\n",
       "      <th>0</th>\n",
       "      <td>8</td>\n",
       "    </tr>\n",
       "    <tr>\n",
       "      <th>1</th>\n",
       "      <td>16</td>\n",
       "    </tr>\n",
       "  </tbody>\n",
       "</table>\n",
       "</div>"
      ],
      "text/plain": [
       "    a\n",
       "0   8\n",
       "1  16"
      ]
     },
     "execution_count": 17,
     "metadata": {},
     "output_type": "execute_result"
    }
   ],
   "source": [
    "print(skdf.steps)\n",
    "skdf"
   ]
  }
 ],
 "metadata": {
  "kernelspec": {
   "display_name": "Python 3",
   "language": "python",
   "name": "python3"
  },
  "language_info": {
   "codemirror_mode": {
    "name": "ipython",
    "version": 3
   },
   "file_extension": ".py",
   "mimetype": "text/x-python",
   "name": "python",
   "nbconvert_exporter": "python",
   "pygments_lexer": "ipython3",
   "version": "3.6.4"
  },
  "latex_envs": {
   "LaTeX_envs_menu_present": true,
   "autocomplete": true,
   "bibliofile": "biblio.bib",
   "cite_by": "apalike",
   "current_citInitial": 1,
   "eqLabelWithNumbers": true,
   "eqNumInitial": 1,
   "hotkeys": {
    "equation": "Ctrl-E",
    "itemize": "Ctrl-I"
   },
   "labels_anchors": false,
   "latex_user_defs": false,
   "report_style_numbering": false,
   "user_envs_cfg": false
  },
  "toc": {
   "nav_menu": {},
   "number_sections": true,
   "sideBar": true,
   "skip_h1_title": true,
   "toc_cell": false,
   "toc_position": {},
   "toc_section_display": "block",
   "toc_window_display": false
  }
 },
 "nbformat": 4,
 "nbformat_minor": 2
}
